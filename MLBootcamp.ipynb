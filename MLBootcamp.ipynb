{
  "nbformat": 4,
  "nbformat_minor": 0,
  "metadata": {
    "colab": {
      "provenance": [],
      "authorship_tag": "ABX9TyN1UHrwONjzzjL4D9Put8XX",
      "include_colab_link": true
    },
    "kernelspec": {
      "name": "python3",
      "display_name": "Python 3"
    },
    "language_info": {
      "name": "python"
    }
  },
  "cells": [
    {
      "cell_type": "markdown",
      "metadata": {
        "id": "view-in-github",
        "colab_type": "text"
      },
      "source": [
        "<a href=\"https://colab.research.google.com/github/abdullah-saridag/Machine-Learning-Bootcamp/blob/main/MLBootcamp.ipynb\" target=\"_parent\"><img src=\"https://colab.research.google.com/assets/colab-badge.svg\" alt=\"Open In Colab\"/></a>"
      ]
    },
    {
      "cell_type": "markdown",
      "source": [
        "Regresyon projemiz için ihtiyaç duyduğum kütüphaneleri ekliyorum"
      ],
      "metadata": {
        "id": "JTsOXt84051_"
      }
    },
    {
      "cell_type": "code",
      "execution_count": 2,
      "metadata": {
        "id": "mYorMWb-d2TZ"
      },
      "outputs": [],
      "source": [
        "import pandas as pd\n",
        "import numpy as np\n",
        "import statsmodels.api as sn\n",
        "import os\n",
        "import matplotlib.pyplot as plt\n",
        "import seaborn as sns\n",
        "from sklearn.model_selection import train_test_split\n",
        "from sklearn.preprocessing import StandardScaler, LabelEncoder\n",
        "from sklearn.model_selection import cross_val_score\n",
        "from sklearn.linear_model import LinearRegression\n",
        "from sklearn.tree import DecisionTreeRegressor\n",
        "from sklearn.ensemble import RandomForestRegressor\n",
        "from sklearn.metrics import mean_squared_error\n",
        "from sklearn.model_selection import RandomizedSearchCV\n",
        "from scipy.stats import randint\n",
        "from sklearn.metrics import r2_score\n",
        "from sklearn.neural_network import MLPRegressor\n",
        "from sklearn.metrics import mean_absolute_error\n",
        "from sklearn.neighbors import KNeighborsRegressor\n",
        "from sklearn.ensemble import GradientBoostingRegressor\n",
        "from xgboost import XGBRegressor\n",
        "from scipy.stats import uniform\n",
        "from sklearn.model_selection import GridSearchCV"
      ]
    },
    {
      "cell_type": "markdown",
      "source": [
        "Kaggle dan aldığım veri setini drive dan colaba yükleyip zip dosyasını açıp daha sonra siliyorum"
      ],
      "metadata": {
        "id": "K7Bnh6Pd1I7w"
      }
    },
    {
      "cell_type": "code",
      "source": [
        "from google.colab import drive\n",
        "drive.mount('/content/gdrive')\n",
        "os.environ['KAGGLE_CONFIG_DIR'] = \"/content/gdrive/MyDrive/Kaggle Veri Seti for Colab\"\n",
        "%cd \"/content/gdrive/MyDrive/Kaggle Veri Seti for Colab\"\n",
        "!kaggle datasets download -d budincsevity/szeged-weather\n",
        "!unzip \\*.zip && rm*.zip"
      ],
      "metadata": {
        "id": "xEDvj6DGp3yr"
      },
      "execution_count": null,
      "outputs": []
    },
    {
      "cell_type": "markdown",
      "source": [
        "Veri setimi dt değişkenine atadım ve veri setimi okuyorum 96453 rows × 12 columns dan oluşuyor"
      ],
      "metadata": {
        "id": "GS4y32LA1idj"
      }
    },
    {
      "cell_type": "code",
      "source": [
        "dt = pd.read_csv('weatherHistory.csv')\n",
        "dt"
      ],
      "metadata": {
        "id": "eaRukcscPNBo"
      },
      "execution_count": null,
      "outputs": []
    },
    {
      "cell_type": "markdown",
      "source": [
        "Veriyi nümerik olarak özetliyorum"
      ],
      "metadata": {
        "id": "PApxCgPJ1-3v"
      }
    },
    {
      "cell_type": "code",
      "source": [
        "dt.info()"
      ],
      "metadata": {
        "id": "yl1rWU6FSzze"
      },
      "execution_count": null,
      "outputs": []
    },
    {
      "cell_type": "markdown",
      "source": [
        "İnfo ile aldığımız genel bilgiye ait başka bir özet"
      ],
      "metadata": {
        "id": "59fgzWEB2WlM"
      }
    },
    {
      "cell_type": "code",
      "source": [
        "dt.describe()"
      ],
      "metadata": {
        "id": "njyKMTd3Ua7f"
      },
      "execution_count": null,
      "outputs": []
    },
    {
      "cell_type": "markdown",
      "source": [
        "Sıcaklık dağılımını gösteren histogram çizdirdim"
      ],
      "metadata": {
        "id": "CnDdyIKY2e8C"
      }
    },
    {
      "cell_type": "code",
      "source": [
        "plt.figure(figsize=(10, 6))\n",
        "sns.histplot(dt ['Temperature (C)'], bins=30, kde=True, color='blue')\n",
        "plt.xlabel('Sıcaklık (C)')\n",
        "plt.ylabel('Frekans')\n",
        "plt.show()"
      ],
      "metadata": {
        "id": "9cj8Vnb1U9-p"
      },
      "execution_count": null,
      "outputs": []
    },
    {
      "cell_type": "markdown",
      "source": [
        "Nem ve rüzgar hızı arasındaki ilişkiyi veren histogram"
      ],
      "metadata": {
        "id": "3cQX3W1A2nef"
      }
    },
    {
      "cell_type": "code",
      "source": [
        "plt.figure(figsize=(10, 6))\n",
        "sns.scatterplot(x='Humidity', y='Wind Speed (km/h)', data=dt, alpha=0.5)\n",
        "plt.xlabel('Nem')\n",
        "plt.ylabel('Rüzgar Hızı (km/h)')\n",
        "plt.show()"
      ],
      "metadata": {
        "id": "BQiHOZtzhZLG"
      },
      "execution_count": null,
      "outputs": []
    },
    {
      "cell_type": "markdown",
      "source": [
        "Nemin KDE grafiği"
      ],
      "metadata": {
        "id": "iLXUo5ik2yxX"
      }
    },
    {
      "cell_type": "code",
      "source": [
        "sns.kdeplot(dt['Humidity'], fill=True, color='blue')\n",
        "plt.xlabel('Humidity')\n",
        "plt.ylabel('Density')\n",
        "plt.title('Humidity Distribution (KDE)')\n",
        "plt.show()"
      ],
      "metadata": {
        "id": "G5f5jgrXjpXy"
      },
      "execution_count": null,
      "outputs": []
    },
    {
      "cell_type": "markdown",
      "source": [
        "Veri seti temizliği (eksik değerler içeren satırları silme, gereksiz sütünları kaldırma) ve normalleştirme yaptım."
      ],
      "metadata": {
        "id": "OOendjSj3KSx"
      }
    },
    {
      "cell_type": "code",
      "source": [
        "dt.dropna(inplace=True)\n",
        "dt.drop(['Daily Summary', 'Loud Cover'], axis=1, inplace=True)\n",
        "scaler = StandardScaler()\n",
        "dt[['Temperature (C)', 'Humidity', 'Wind Speed (km/h)']] = scaler.fit_transform(dt[['Temperature (C)', 'Humidity', 'Wind Speed (km/h)']])"
      ],
      "metadata": {
        "id": "JmWupErGcPVM"
      },
      "execution_count": 7,
      "outputs": []
    },
    {
      "cell_type": "markdown",
      "source": [
        "Label encoding ve one hot encoding yaptım"
      ],
      "metadata": {
        "id": "QfD7Q7tX3oEe"
      }
    },
    {
      "cell_type": "code",
      "source": [
        "label_encoder = LabelEncoder()\n",
        "dt['Precip Type'] = label_encoder.fit_transform(dt['Precip Type'])\n",
        "dt = pd.get_dummies(dt, columns=['Summary'])\n"
      ],
      "metadata": {
        "id": "cfYJFz0dci7Y"
      },
      "execution_count": 8,
      "outputs": []
    },
    {
      "cell_type": "markdown",
      "source": [
        "Veri setini eğitim ve test kümelerine ayırdım %80 eğitim %20 test"
      ],
      "metadata": {
        "id": "A-Kn00cs4OEL"
      }
    },
    {
      "cell_type": "code",
      "source": [
        "X = dt.drop(['Temperature (C)'], axis=1)\n",
        "y = dt['Temperature (C)']\n",
        "X_train, X_test, y_train, y_test = train_test_split(X, y, test_size=0.2, random_state=42)\n",
        "\n",
        "print(\"Eğitim kümesinin boyutu:\", X_train.shape)\n",
        "print(\"Test kümesinin boyutu:\", X_test.shape)"
      ],
      "metadata": {
        "id": "tVcKz3E_csWv"
      },
      "execution_count": null,
      "outputs": []
    },
    {
      "cell_type": "markdown",
      "source": [
        "Bağımlı ve bağımsız değişkenleri ayırdım bağımsız değişken nem bağımlı sıcaklık görünen sıcaklık.\n",
        "modelleri oluşturdum\n",
        "modelleri eğittim ve test ettim\n",
        "Modellerin K-fold çapraz doğrulama ile R2 değerini Cross-Validation Scoru ve MSE sini hesapladım\n"
      ],
      "metadata": {
        "id": "6JpHbIRR5A3D"
      }
    },
    {
      "cell_type": "code",
      "source": [
        "X = dt[['Humidity']]\n",
        "y = dt['Apparent Temperature (C)']\n",
        "\n",
        "models = {\n",
        "    'Linear Regression': LinearRegression(),\n",
        "    'Decision Tree Regression': DecisionTreeRegressor(),\n",
        "    'Random Forest Regression': RandomForestRegressor(),\n",
        "    'XGBoost Regression': XGBRegressor(),\n",
        "    'Gradient Boosting Regression': GradientBoostingRegressor(),\n",
        "    'K-Nearest Neighbors Regression': KNeighborsRegressor(n_neighbors=311),\n",
        "}\n",
        "\n",
        "for name, model in models.items():\n",
        "    scores = cross_val_score(model, X, y, cv=5, scoring='r2')\n",
        "    print(f\"{name} R² Scores:\", scores)\n",
        "    print(f\"{name} Mean R² Score:\", scores.mean())\n",
        "\n",
        "    print(f\"{name} Cross-Validation Scores:\", scores)\n",
        "\n",
        "    X_train, X_test, y_train, y_test = train_test_split(X, y, test_size=0.2, random_state=42)\n",
        "    model.fit(X_train, y_train)\n",
        "    y_pred = model.predict(X_test)\n",
        "    mse = mean_squared_error(y_test, y_pred)\n",
        "    print(f\"{name} Mean Squared Error:\", mse)"
      ],
      "metadata": {
        "id": "-yUFOpDuz-CR"
      },
      "execution_count": null,
      "outputs": []
    },
    {
      "cell_type": "markdown",
      "source": [
        "Çıkan sonuçlar neticesinde Random Forest Regression modelini daha başarılı gördüm ve Randomized Search yöntemini kullanacağım\n",
        "Parametreleri tanımladım modeli oluşturdum en iyi Hiperparametreleri buldum ve yazdırdım."
      ],
      "metadata": {
        "id": "DPneZIGYkjij"
      }
    },
    {
      "cell_type": "code",
      "source": [
        "param_dist = {\n",
        "    'n_estimators': randint(10, 100),\n",
        "    'max_depth': randint(1, 20),\n",
        "    'min_samples_split': randint(2, 10),\n",
        "    'min_samples_leaf': randint(1, 10)\n",
        "}\n",
        "\n",
        "rf = RandomForestRegressor()\n",
        "\n",
        "random_search = RandomizedSearchCV(estimator=rf, param_distributions=param_dist, n_iter=100, cv=5, scoring='neg_mean_squared_error', random_state=42, n_jobs=-1)\n",
        "\n",
        "random_search.fit(X_train, y_train)\n",
        "\n",
        "print(\"En iyi hiperparametreler:\", random_search.best_params_)\n",
        "\n",
        "best_model = random_search.best_estimator_"
      ],
      "metadata": {
        "id": "nZUVuwgQ37Mz"
      },
      "execution_count": null,
      "outputs": []
    },
    {
      "cell_type": "markdown",
      "source": [
        "Bulduğum en iyi hiperparametreleri aldım en iyi modeli oluşturdum modeli eğittim Tahminleri yaptırdım ve performansını değerlerdirdim"
      ],
      "metadata": {
        "id": "PlN0-Da3y1No"
      }
    },
    {
      "cell_type": "code",
      "source": [
        "# En iyi hiperparametreler\n",
        "best_params = {'max_depth': 12, 'min_samples_leaf': 4, 'min_samples_split': 7, 'n_estimators': 71}\n",
        "\n",
        "# En iyi modelin oluşturulması\n",
        "best_model = RandomForestRegressor(**best_params)\n",
        "\n",
        "# Modelin eğitimi\n",
        "best_model.fit(X_train, y_train)\n",
        "\n",
        "# Tahminlerin yapılması\n",
        "y_pred = best_model.predict(X_test)\n",
        "\n",
        "\n",
        "# Performansın değerlendirilmesi\n",
        "mse = mean_squared_error(y_test, y_pred)\n",
        "mae = mean_absolute_error(y_test, y_pred)\n",
        "print(\"Mean Squared Error:\", mse)\n",
        "print(\"Mean Absolute Error:\", mae)"
      ],
      "metadata": {
        "id": "w5vmgmmwP74y",
        "colab": {
          "base_uri": "https://localhost:8080/"
        },
        "outputId": "512d8d0b-46e8-4b4a-be59-006142cf0187"
      },
      "execution_count": 13,
      "outputs": [
        {
          "output_type": "stream",
          "name": "stdout",
          "text": [
            "Mean Squared Error: 68.17023447975917\n",
            "Mean Absolute Error: 6.63758059219255\n"
          ]
        }
      ]
    }
  ]
}